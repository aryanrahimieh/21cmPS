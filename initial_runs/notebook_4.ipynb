{
 "cells": [
  {
   "cell_type": "markdown",
   "metadata": {},
   "source": [
    "# <center>Welcome to 21cmFirstCLASS Notebook #4!</center>\n",
    "### <center>By J. Flitter and S. Libanore</center>\n",
    "\n",
    "21cmFirstCLASS is an extension of the popular 21cmFAST code that interfaces with CLASS to generate initial conditions consistent with the input cosmological model. These initial conditions can be set during the time of recombination, allowing one to compute the 21cm signal (and its spatial fluctuations) throughout the dark ages, as well as in the proceeding cosmic dawn and reionization epochs, just like in the standard 21cmFAST.\n",
    "\n",
    "#### Summary of previous notebooks\n",
    "- In Notebook #1, you learned how to install 21cmFirstCLASS and its dependencies, how to run the code for basic settings, and how to plot easily the simulation outputs.\n",
    "\n",
    "- In Notebook #2, you learned about the new physical features (in &Lambda;CDM cosmology) that have been introduced to 21cmFirstCLASS and how to restore conditions similar to the original 21cmFAST.\n",
    "\n",
    "- In Notebook #3, you learned how to study exotic models of dark matter (fuzzy dark matter and scattering dark matter) with 21cmFirstCLASS.\n",
    "\n",
    "#### In this notebook you will learn how to...\n",
    "- Install the code and all the dependencies it requires\n",
    "\n",
    "- Compute the noise of the HERA experiment (with 21cmSense) and plot it on top of the 21cm power spectrum \n",
    "\n",
    "- Understand how to change the specifics of the experiment "
   ]
  },
  {
   "cell_type": "markdown",
   "metadata": {},
   "source": [
    "## Installation\n",
    "\n",
    "To run this notebook, make sure you have 21cmSense installed in your 21cmFirstCLASS environment. You can download it by running in the terminal the following lines.\n",
    "  ```python\n",
    "  git clone https://github.com/rasg-affiliates/21cmSense.git\n",
    "  cd 21cmSense/\n",
    "```\n",
    "21cmSense by default displays progress bars throughout each run.\n",
    "If you don't want to show them, we recommend prior to the installation to set \"PROGRESS = False\" in the module\n",
    "  ```python\n",
    "config.py \n",
    "  ```   \n",
    "Once this is done, run in the terminal\n",
    "  ```python\n",
    "  pip install . \n",
    "```"
   ]
  },
  {
   "cell_type": "markdown",
   "metadata": {},
   "source": [
    "## General definitions"
   ]
  },
  {
   "cell_type": "code",
   "execution_count": 1,
   "metadata": {},
   "outputs": [],
   "source": [
    "# Import the packages required for this tutorial\n",
    "import numpy as np \n",
    "import matplotlib as mpl\n",
    "import matplotlib.pyplot as plt\n",
    "\n",
    "import py21cmfast as p21c # To run 21cmFirstCLASS (21cmFAST)\n",
    "from py21cmfast import plotting # For plotting global signals, coeval boxes, lightcone boxes and power spectra\n",
    "import py21cmfast.power_spectrum as ps # Calculate power spectrum from the lightcone"
   ]
  },
  {
   "cell_type": "markdown",
   "metadata": {},
   "source": [
    "It is VERY recommended for 21cmFirstCLASS users to have the 'latex' package installed in the same python environment where 21cmFirstCLASS is installed. <br>\n",
    "If you have latex installed then you may run the next cell, otherwise do not run it as it will raise errors and no plots in this tutorial will be shown!"
   ]
  },
  {
   "cell_type": "code",
   "execution_count": 2,
   "metadata": {},
   "outputs": [],
   "source": [
    "plt.rcParams.update({\"text.usetex\": True, \"font.family\": \"Times new roman\"}) # Use latex fonts"
   ]
  },
  {
   "cell_type": "markdown",
   "metadata": {},
   "source": [
    "Define the color palette (this combination is good for colorblindness)."
   ]
  },
  {
   "cell_type": "code",
   "execution_count": 3,
   "metadata": {},
   "outputs": [],
   "source": [
    "colors =  ['#377eb8', '#ff7f00', '#4daf4a',\n",
    "           '#f781bf', '#a65628', '#984ea3',\n",
    "           '#999999', '#e41a1c', '#dede00']\n",
    "\n",
    "mpl.rcParams['axes.prop_cycle'] = mpl.cycler(color=colors) # Set the color palette as default"
   ]
  },
  {
   "cell_type": "markdown",
   "metadata": {},
   "source": [
    "## Compute the 21cm power spectrum $\\Delta_{21}^2(k,z)$\n",
    "\n",
    "To get a feeling for how much information we can obtain from HERA, we first need to compute the 21cm power spectrum \n",
    "$\\Delta_{21}^2(k,z)$. Before we do that we run 21cmFirstCLASS to get the lightcone box at cosmic dawn. <br>\n",
    "You should already be familiar with the settings of 21cmFirstCLASS by now, if not you can check Notebooks #1 and #2.\n",
    "### Important Note!\n",
    "To speed up the computation we use a rather small box with low resolution. Altough these settings are fine to obtain the correct global history, they are inadequate for studying the fluctuations of the box, or the power spectrum. Make sure to increase BOX_LEN and HII_DIM for reliable simulation of the power spectrum!"
   ]
  },
  {
   "cell_type": "code",
   "execution_count": null,
   "metadata": {},
   "outputs": [
    {
     "name": "stdout",
     "output_type": "stream",
     "text": [
      "Now running CLASS...\n",
      "Now generating initial boxes...\n",
      "Now going through the dark ages...\n"
     ]
    }
   ],
   "source": [
    "user_params = {\"BOX_LEN\": 700, \n",
    "               \"HII_DIM\": 50, \n",
    "               \"N_THREADS\": 6,\n",
    "               \"OUTPUT_AT_DARK_AGES\": False, # We are not interested in having any output during the dark ages in this tutorial\n",
    "               \"EVALUATE_TAU_REIO\": False} # Since we don't study the CMB power spectrum in this tutorial, we do not calculate tau_reio from the simulation\n",
    "\n",
    "cosmo_params = {\"hlittle\": 0.6736, \n",
    "                \"OMb\": 0.0493,\n",
    "                \"OMm\": 0.3153, \n",
    "                \"A_s\": 2.1e-9, \n",
    "                \"POWER_INDEX\": 0.9649, \n",
    "                \"tau_reio\": 0.0544, \n",
    "                }\n",
    "\n",
    "flag_options = {\"USE_MINI_HALOS\": False, } # if False, popIII stars are not included - Note: if set to True, the runtime increases significantly!\n",
    "\n",
    "astro_params = {} # We assume the default astrophysical parameters of 21cmFAST/21cmFirstCLASS\n",
    "\n",
    "lightcone = p21c.run_lightcone(redshift = 6., \n",
    "                               random_seed = 1,\n",
    "                               regenerate = True, \n",
    "                               write = False, \n",
    "                               user_params = user_params,\n",
    "                               astro_params = astro_params,\n",
    "                               flag_options = flag_options,\n",
    "                               cosmo_params = cosmo_params) ;"
   ]
  },
  {
   "cell_type": "markdown",
   "metadata": {},
   "source": [
    "Now that we have the lightcone box we can compute the 21cm power spectrum.\n",
    "\n",
    "In computing $\\Delta_{21}^2(k,z)$, we divide the lightcone box according to the experimental frequency bands of HERA, which observes between 50 and 225 MHz with 8 MHz bandwidth."
   ]
  },
  {
   "cell_type": "code",
   "execution_count": null,
   "metadata": {},
   "outputs": [],
   "source": [
    "fmin = 50.\n",
    "fmax = 225.\n",
    "bandwidth = 8.\n",
    "freq_bands_boundaries = np.arange(fmin,fmax+bandwidth,bandwidth); freq_bands_boundaries[-1] = fmax\n",
    "\n",
    "# compute the power spectrum in HERA bands\n",
    "power_spectrum_HERA = ps.lightcone_power_spectrum(lightcone,\n",
    "                                                  freq_bands_boundaries = freq_bands_boundaries)"
   ]
  },
  {
   "cell_type": "markdown",
   "metadata": {},
   "source": [
    "## Compute HERA noise with 21cmSense\n",
    "\n",
    "Below we compute HERA's sensitivity to the 21cm power spectrum with the 21cmSense package.\n",
    "\n",
    "To allow a convenient interface with 21cmSense, 21cmFirstCLASS works with the following module\n",
    "  ```python\n",
    "    experiment.py\n",
    "  ```\n",
    "We thus need to import the following."
   ]
  },
  {
   "cell_type": "code",
   "execution_count": null,
   "metadata": {},
   "outputs": [],
   "source": [
    "# import the following function from the experiment module\n",
    "from py21cmfast.experiment import run_21cmSense\n",
    "\n",
    "# 21cmSense makes use of the astropy package, for which we need to import the following modules\n",
    "from astropy import units as un\n",
    "from astropy.cosmology.units import littleh\n",
    "from astropy.cosmology import Planck18"
   ]
  },
  {
   "cell_type": "markdown",
   "metadata": {},
   "source": [
    "### Set parameters for the 21cmSense calculation\n",
    "The sensitivity of HERA depends on many parameters. We list below the most relevant ones you may be interested in playing with. Others are described in the 21cmSense documentation."
   ]
  },
  {
   "cell_type": "markdown",
   "metadata": {},
   "source": [
    "First, let's define the antennae configuration of HERA. HERA is shaped as an hexagon, and its sensitivity is set by the number of antennas and the separation between them. The following values correspond to the future full-HERA experiment."
   ]
  },
  {
   "cell_type": "code",
   "execution_count": null,
   "metadata": {},
   "outputs": [],
   "source": [
    "hex_num = 11 # number of antennas along each of the hexagon outermost sides\n",
    "dishsize = 14*un.m # diameter of each antenna\n",
    "separation = 14*un.m # separation between adjacent antennae within a given row\n",
    "row_separation = (14.*np.sin(np.pi/3.))*un.m # separation between two antenna rows\n",
    "\n",
    "# Note that the above specifications define a packed hexagonal grid"
   ]
  },
  {
   "cell_type": "markdown",
   "metadata": {},
   "source": [
    "We now define the parameters required by 21cmSense. In 21cmFirstCLASS, we can easily set the 21cmSense parameters with a single dictionary."
   ]
  },
  {
   "cell_type": "code",
   "execution_count": null,
   "metadata": {},
   "outputs": [],
   "source": [
    "# Initialization of the dictionary for the 21cmSense parameters\n",
    "Sense_params = {}"
   ]
  },
  {
   "cell_type": "markdown",
   "metadata": {},
   "source": [
    "The following parameters must be specified for the 21cmSense calculation."
   ]
  },
  {
   "cell_type": "code",
   "execution_count": null,
   "metadata": {},
   "outputs": [],
   "source": [
    "Sense_params[\"dish_size\"] = dishsize # diameter of each antenna \n",
    "Sense_params[\"hex_num\"] = hex_num # number of antennas along each of the hexagon outermost sides"
   ]
  },
  {
   "cell_type": "markdown",
   "metadata": {},
   "source": [
    "All the following parameters are optional. If they are not specified, 21cmSense takes the default value."
   ]
  },
  {
   "cell_type": "code",
   "execution_count": null,
   "metadata": {},
   "outputs": [],
   "source": [
    "Sense_params[\"separation\"] = separation # separation between adjacent antennae within a given row\n",
    "Sense_params[\"row_separation\"] = row_separation # separation between two antenna rows\n",
    "\n",
    "Sense_params[\"Trcv\"] = 100.*un.K # temperature of the receiver, it sets the instrumental noise \n",
    "Sense_params[\"n_days\"] = 540 # how many days in the observation run\n",
    "Sense_params[\"time_per_day\"] = 6.*un.hour # how much time observed per day \n",
    "Sense_params[\"bandwidth\"] = bandwidth*un.MHz # frequency resolution, it should match the same bandwidth you used to compute the power spectrum \n",
    "Sense_params[\"n_channels\"] = 82 # number of channels used to observe each bandwidth; together with it, sets the max k_parallel that can be observed\n",
    "\n",
    "# Foreground model, default parameters are based on arXiv:1609.08705\n",
    "Sense_params[\"tsky_amplitude\"] = 60.*un.K # foreground brightness temperature at the pivot frequency\n",
    "Sense_params[\"tsky_ref_freq\"] = 300.*un.MHz # pivot frequency \n",
    "Sense_params[\"spectral_index\"] = 2.55 # slope of the foreground frequency dependence"
   ]
  },
  {
   "cell_type": "markdown",
   "metadata": {},
   "source": [
    "To compute the noise measured by HERA, 21cmSense has to receive $\\Delta_{21}^2(k,z)$ as an input. This is because on large scales, the noise is dominated by 'cosmic variance', namely $\\Delta_{21}^2(k,z)$.\n",
    "\n",
    "For consistency, we pass 21cmSense the power spectrum we have previously computed."
   ]
  },
  {
   "cell_type": "code",
   "execution_count": null,
   "metadata": {},
   "outputs": [],
   "source": [
    "Sense_params[\"power_spectrum\"] = power_spectrum_HERA"
   ]
  },
  {
   "cell_type": "markdown",
   "metadata": {},
   "source": [
    "In addition, 21cmSense can receive a cosmo object from astropy as an input. This is needed for 21cmSense in order to convert frequency/redshift to $k_{||}$. For consistency, we pass the input cosmological parameters we used for the 21cmFirstCLASS simulation."
   ]
  },
  {
   "cell_type": "code",
   "execution_count": null,
   "metadata": {},
   "outputs": [],
   "source": [
    "Sense_params[\"cosmo\"] = Planck18.clone(H0=100*power_spectrum_HERA.cosmo_params.hlittle,\n",
    "                                       Om0=power_spectrum_HERA.cosmo_params.OMm,\n",
    "                                       Ob0=power_spectrum_HERA.cosmo_params.OMb)"
   ]
  },
  {
   "cell_type": "markdown",
   "metadata": {},
   "source": [
    "Finally, to avoid contaminated $k$ modes due to foreground, there are two more important parameters in 21cmSense:\n",
    "\n",
    "* <b>foreground_model</b>: type of foreground scenario to consider. Can be either 'moderate' or 'optimistic'.\n",
    "* <b>horizon_buffer</b>: the foreground avoidance procedure removes the k-modes beyond the horizon wedge (which are the most contaminated ones), but also some extra modes in the buffer, to be on the safe side."
   ]
  },
  {
   "cell_type": "code",
   "execution_count": null,
   "metadata": {},
   "outputs": [],
   "source": [
    "Sense_params[\"foreground_model\"] = \"moderate\"\n",
    "Sense_params[\"horizon_buffer\"] = 0.1*littleh/un.Mpc"
   ]
  },
  {
   "cell_type": "markdown",
   "metadata": {},
   "source": [
    "### Run 21cmSense\n",
    "Once you have set the parameters, you are ready to run 21cmSense. This is very easy in 21cmFirstCLASS and can be done with a single line. <br> "
   ]
  },
  {
   "cell_type": "code",
   "execution_count": null,
   "metadata": {},
   "outputs": [],
   "source": [
    "# Run 21cmSense!\n",
    "HERA_noise_data = run_21cmSense(Sense_params) ;"
   ]
  },
  {
   "cell_type": "markdown",
   "metadata": {},
   "source": [
    "### Explore the output of 21cmSense\n",
    "The output of 'run_21cmSense' is a special object with the following fields."
   ]
  },
  {
   "cell_type": "code",
   "execution_count": null,
   "metadata": {},
   "outputs": [],
   "source": [
    "list(vars(HERA_noise_data).keys())"
   ]
  },
  {
   "cell_type": "markdown",
   "metadata": {},
   "source": [
    "These are their meaning:\n",
    "* <b>power_spectrum</b>: This returns the same 'POWER_SPECTRUM' object that was given to 21cmSense an input. In our case, it is the same as 'power_spectrum_HERA'.\n",
    "* <b>z_values</b>: These values match the redshift chunks used for calculating the 21cm power spectrum. In our case, they (almost) match the center of HERA's frequency bands (the smaller the cell size, the better the matching is).\n",
    "* <b>k_noise</b>: This is a dictionary. For each 'z' value in 'z_values' it returns the wavenumbers in which the noise was estimated. Note that the values of these wavenumbers vary between different chunks! In fact, the $n$'th entry in 'k_noise' is\n",
    "\n",
    "\\begin{eqnarray}\n",
    "k_n&=&\\frac{2\\pi\\nu_{21}H\\left(z\\right)}{c\\,\\left(1+z\\right)^2B}n,\\qquad n=1,\\dots,N\n",
    "\\\\&\\approx&0.045n\\,\\left(\\frac{\\Omega_{m}h^{2}}{0.143}\\right)^{1/2}\\left(\\frac{8\\,\\mathrm{MHz}}{B}\\right)\\left(\\frac{10}{1+z}\\right)^{1/2}\\,\\mathrm{Mpc}^{-1}\n",
    "\\end{eqnarray}\n",
    "\n",
    "&emsp;&emsp;&ensp;where B is the experiment's bandwidth (8 MHz in HERA), and $N$ is the number of different channel per frequency band ('n_channels', 82 in HERA).\n",
    "* <b>noise</b>: This is a dictionary. For each 'z' value in 'z_values' it returns the noise values that correspond to 'k_noise'.\n",
    "* <b>signal</b>: This is a dictionary. For each 'z' value in 'z_values' it returns the signal values (namely $\\Delta_{21}^2(k,z)$) that correspond to 'k_noise'. Note that this dictionary does not contain the same values as in 'power spectrum' due to the different $k$ bins.\n",
    "* <b>sensitivities</b>: This is a dictionary. For each 'z' value in 'z_values' it returns a 'Sensitivity' object used by 21cmSense."
   ]
  },
  {
   "cell_type": "markdown",
   "metadata": {},
   "source": [
    "Let us print the 'z_values' in which the noise was estimated, and their corresponding frequencies."
   ]
  },
  {
   "cell_type": "code",
   "execution_count": null,
   "metadata": {},
   "outputs": [],
   "source": [
    "z_values = HERA_noise_data.z_values\n",
    "print(f'z_values = {z_values}')\n",
    "\n",
    "f_21 = 1420.40575177 # MHz - frequency of the 21cm line\n",
    "f_values = f_21/(1.+z_values)\n",
    "print(f'f_values = {f_values}')"
   ]
  },
  {
   "cell_type": "markdown",
   "metadata": {},
   "source": [
    "You can also extract information on the detector from the 21cmSense objects.\n",
    "\n",
    "For example, we can print the total number of antennae that was assumed in the 21cmSense calculation (corresponds to the total number of antennae in a hexagonal configuration of base 11)."
   ]
  },
  {
   "cell_type": "code",
   "execution_count": null,
   "metadata": {},
   "outputs": [],
   "source": [
    "z = z_values[0] # doesn't really matter which redshift we consider\n",
    "baselines = HERA_noise_data.sensitivities[z].observation.observatory.baselines_metres\n",
    "print(f'Total amount of antennae: {baselines.shape[0]}')"
   ]
  },
  {
   "cell_type": "markdown",
   "metadata": {},
   "source": [
    "We can also display the antennae configuration using the following lines.\n",
    "#### Note\n",
    "In reality, each one of the presented dots (an antenna) is larger, as according to our specifications the antennae are packed. This can be fixed by specifying a large 's' argument in 'ax.scatter'."
   ]
  },
  {
   "cell_type": "code",
   "execution_count": null,
   "metadata": {},
   "outputs": [],
   "source": [
    "# x and y coordinates of the antennae\n",
    "x_coords = baselines[:,:,0]\n",
    "y_coords = baselines[:,:,1]\n",
    "\n",
    "# Plot the antennae configuration\n",
    "fig, ax = plt.subplots(1, 1, figsize=(8, 8))\n",
    "ax.scatter(x_coords,y_coords)\n",
    "\n",
    "# Prettify the plot\n",
    "ax.xaxis.set_tick_params(labelsize=20)\n",
    "ax.yaxis.set_tick_params(labelsize=20)\n",
    "ax.set_xlabel(xlabel='x [m]',fontsize=25)\n",
    "ax.set_ylabel(ylabel='y [m]',fontsize=25);"
   ]
  },
  {
   "cell_type": "markdown",
   "metadata": {},
   "source": [
    "## Plot the noise of HERA\n",
    "\n",
    "In order to visualize the noise of HERA, it's best to compare it with the signal that HERA aims to detect. To do that, we use the 'plot_1d_power_spectrum' function of 21cmFirstCLASS which allows us to plot $\\Delta_{21}^2$ as a function of either $z$ or $k$. In order to display the estimated noise from HERA, pass this function a 'noise_data' argument, as we show below.\n",
    "\n",
    "#### Note\n",
    "We recommend of showing the power spectrum as a function of frequency (rather redshift), as this corresponds better to what HERA measures!\n",
    "### Important Note!\n",
    "The following power spectrum plots are imprecise, especially when we plot the power spectrum as a function of $k$, as we have set a small box with very low resolution!\n",
    "In order to achieve the correct power spectrum, you must increase BOX_LEN and HII_DIM!"
   ]
  },
  {
   "cell_type": "code",
   "execution_count": null,
   "metadata": {},
   "outputs": [],
   "source": [
    "fig, ax = plotting.plot_1d_power_spectrum(power_spectrum_HERA, k=0.15, x_kind = 'frequency',\n",
    "                                          smooth=True,\n",
    "                                          noise_data=HERA_noise_data,\n",
    "                                          label=r'$k = 0.15\\,{\\rm Mpc^{-1}}$')\n",
    "\n",
    "fig, ax = plotting.plot_1d_power_spectrum(power_spectrum_HERA, k=0.3, x_kind = 'frequency',\n",
    "                                          smooth=True,\n",
    "                                          noise_data=HERA_noise_data,\n",
    "                                          label=r'$k = 0.3\\,{\\rm Mpc^{-1}}$',\n",
    "                                          ax=ax)\n",
    "\n",
    "fig, ax = plotting.plot_1d_power_spectrum(power_spectrum_HERA, k=0.5, x_kind = 'frequency',\n",
    "                                          smooth=True,\n",
    "                                          noise_data=HERA_noise_data,\n",
    "                                          redshift_axis_on_top=True,\n",
    "                                          label=r'$k = 0.5\\,{\\rm Mpc^{-1}}$',\n",
    "                                          ax=ax)\n",
    "\n",
    "ax.set_ylabel(r'$\\Delta^2_{21}\\,[\\mathrm{mK}^2]$')\n",
    "ax.set_yscale('linear')"
   ]
  },
  {
   "cell_type": "markdown",
   "metadata": {},
   "source": [
    "Regardless of the shape and amplitude of the power spectrum, we see from the above plot that HERA is in general mostly sensitive to high frequencies (low redshifts) and to large scale (small $k$, as long we have not entered the horizon wedge/buffer). Below a critical frequency (which depends on scale), the noise diverges."
   ]
  },
  {
   "cell_type": "markdown",
   "metadata": {},
   "source": [
    "Default settings of 'plot_1d_power_spectrum' is to show the noise as shaded regions around the power spectrum. We can also show the noise in the form of error bars. Note that, in principle, this is more correct since HERA only observes a finite amount of frequency bands, controlled by the bandwidth of HERA.\n"
   ]
  },
  {
   "cell_type": "code",
   "execution_count": null,
   "metadata": {},
   "outputs": [],
   "source": [
    "fig, ax = plotting.plot_1d_power_spectrum(power_spectrum_HERA, k=0.15, x_kind = 'frequency',\n",
    "                                          smooth=True, \n",
    "                                          noise_data=HERA_noise_data,\n",
    "                                          error_bars = True,\n",
    "                                          label=r'$k = 0.15\\,{\\rm Mpc^{-1}}$')\n",
    "\n",
    "fig, ax = plotting.plot_1d_power_spectrum(power_spectrum_HERA, k=0.3, x_kind = 'frequency',\n",
    "                                          smooth=True, \n",
    "                                          noise_data=HERA_noise_data,\n",
    "                                          error_bars = True,\n",
    "                                          label=r'$k = 0.3\\,{\\rm Mpc^{-1}}$',\n",
    "                                          ax=ax)\n",
    "\n",
    "fig, ax = plotting.plot_1d_power_spectrum(power_spectrum_HERA, k=0.5, x_kind = 'frequency',\n",
    "                                          smooth=True, \n",
    "                                          noise_data=HERA_noise_data,\n",
    "                                          redshift_axis_on_top=True,\n",
    "                                          error_bars = True,\n",
    "                                          label=r'$k = 0.5\\,{\\rm Mpc^{-1}}$',\n",
    "                                          ax=ax)\n",
    "\n",
    "ax.set_ylabel(r'$\\Delta^2_{21}\\,[\\mathrm{mK}^2]$')\n",
    "ax.set_yscale('linear')\n",
    "# ax.set_ylim([0,200])"
   ]
  },
  {
   "cell_type": "markdown",
   "metadata": {},
   "source": [
    "We can also show the noise when we plot the power spectrum as a function of $k$, for a specific frequency\\redshift.\n",
    "Since each frequency band of HERA accesses different values of $k_{||}$, 'plot_1d_power_spectrum' does not interpolate the noise as it did in the above plots, but rather finds the closest frequency\\redshift in the noise data (note the displayed warning)."
   ]
  },
  {
   "cell_type": "code",
   "execution_count": null,
   "metadata": {},
   "outputs": [],
   "source": [
    "fig, ax = plotting.plot_1d_power_spectrum(power_spectrum_HERA, nu=175,\n",
    "                                          smooth=True, \n",
    "                                          noise_data=HERA_noise_data,\n",
    "                                          ylog=False) ;"
   ]
  },
  {
   "cell_type": "markdown",
   "metadata": {},
   "source": [
    "## Comparison with \"optimistic\" foreground scenario\n",
    "The estimated noise we have previously computed highly depends on the assume foreground model (we have assumed a \"moderate\" foreground scenario).\n",
    "\n",
    "We now run 21cmSense for the second time, this time with an \"optimistic\" foreground scenario."
   ]
  },
  {
   "cell_type": "code",
   "execution_count": null,
   "metadata": {},
   "outputs": [],
   "source": [
    "Sense_params[\"foreground_model\"] = \"optimistic\" \n",
    "\n",
    "HERA_noise_data_optimistic = run_21cmSense(Sense_params) ; "
   ]
  },
  {
   "cell_type": "markdown",
   "metadata": {},
   "source": [
    "And compare the noise of HERA in the two scenarios."
   ]
  },
  {
   "cell_type": "code",
   "execution_count": null,
   "metadata": {},
   "outputs": [],
   "source": [
    "fig, ax = plotting.plot_1d_power_spectrum(power_spectrum_HERA, k=0.15,x_kind = 'frequency',\n",
    "                                          smooth=True,\n",
    "                                          noise_data=HERA_noise_data,\n",
    "                                          ylog=False,\n",
    "                                          color = 'k', \n",
    "                                          label=r'$\\rm Moderate\\,foreground$')\n",
    "\n",
    "fig, ax = plotting.plot_1d_power_spectrum(power_spectrum_HERA, k=0.15, x_kind = 'frequency',\n",
    "                                          smooth=True,\n",
    "                                          noise_data=HERA_noise_data_optimistic,\n",
    "                                          redshift_axis_on_top=True,\n",
    "                                          ylog=False,\n",
    "                                          color = 'r', \n",
    "                                          ax = ax,\n",
    "                                          label=r'$\\rm Optimistic\\,foreground$')"
   ]
  },
  {
   "cell_type": "markdown",
   "metadata": {},
   "source": [
    "Clearly, the noise is smaller for the \"optimistic\" foreground scenario."
   ]
  },
  {
   "cell_type": "markdown",
   "metadata": {},
   "source": [
    "## Great, you reached the end of Notebook #4!\n",
    "\n",
    "This concludes our tutorial on 21cmFirstCLASS and its applications. <br>\n",
    "From now on, all the issues are on you!\n",
    "\n",
    "#### If you have questions or you find bugs, feel free to email us!\n",
    "jordanf@post.bgu.ac.il\n",
    "\n",
    "libanore@bgu.ac.il"
   ]
  },
  {
   "cell_type": "code",
   "execution_count": null,
   "metadata": {},
   "outputs": [],
   "source": []
  },
  {
   "cell_type": "code",
   "execution_count": null,
   "metadata": {},
   "outputs": [],
   "source": []
  },
  {
   "cell_type": "code",
   "execution_count": null,
   "metadata": {},
   "outputs": [],
   "source": []
  },
  {
   "cell_type": "code",
   "execution_count": null,
   "metadata": {},
   "outputs": [],
   "source": []
  },
  {
   "cell_type": "code",
   "execution_count": null,
   "metadata": {},
   "outputs": [],
   "source": []
  }
 ],
 "metadata": {
  "kernelspec": {
   "display_name": "Python 3 (ipykernel)",
   "language": "python",
   "name": "python3"
  },
  "language_info": {
   "codemirror_mode": {
    "name": "ipython",
    "version": 3
   },
   "file_extension": ".py",
   "mimetype": "text/x-python",
   "name": "python",
   "nbconvert_exporter": "python",
   "pygments_lexer": "ipython3",
   "version": "3.9.18"
  }
 },
 "nbformat": 4,
 "nbformat_minor": 2
}
